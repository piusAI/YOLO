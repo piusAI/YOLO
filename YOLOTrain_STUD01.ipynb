{
  "nbformat": 4,
  "nbformat_minor": 0,
  "metadata": {
    "colab": {
      "provenance": [],
      "gpuType": "T4",
      "authorship_tag": "ABX9TyPLAB0C6O9SxRfoP2iXP3CC",
      "include_colab_link": true
    },
    "kernelspec": {
      "name": "python3",
      "display_name": "Python 3"
    },
    "language_info": {
      "name": "python"
    },
    "accelerator": "GPU"
  },
  "cells": [
    {
      "cell_type": "markdown",
      "metadata": {
        "id": "view-in-github",
        "colab_type": "text"
      },
      "source": [
        "<a href=\"https://colab.research.google.com/github/piusAI/YOLO/blob/main/YOLOTrain_STUD01.ipynb\" target=\"_parent\"><img src=\"https://colab.research.google.com/assets/colab-badge.svg\" alt=\"Open In Colab\"/></a>"
      ]
    },
    {
      "cell_type": "code",
      "source": [
        "!pip install ultralytics"
      ],
      "metadata": {
        "colab": {
          "base_uri": "https://localhost:8080/"
        },
        "collapsed": true,
        "id": "HJj3CTor-4EY",
        "outputId": "d732fc17-2284-4aed-f2d8-f5fe599f8122"
      },
      "execution_count": 1,
      "outputs": [
        {
          "output_type": "stream",
          "name": "stdout",
          "text": [
            "Collecting ultralytics\n",
            "  Downloading ultralytics-8.3.162-py3-none-any.whl.metadata (37 kB)\n",
            "Requirement already satisfied: numpy>=1.23.0 in /usr/local/lib/python3.11/dist-packages (from ultralytics) (2.0.2)\n",
            "Requirement already satisfied: matplotlib>=3.3.0 in /usr/local/lib/python3.11/dist-packages (from ultralytics) (3.10.0)\n",
            "Requirement already satisfied: opencv-python>=4.6.0 in /usr/local/lib/python3.11/dist-packages (from ultralytics) (4.11.0.86)\n",
            "Requirement already satisfied: pillow>=7.1.2 in /usr/local/lib/python3.11/dist-packages (from ultralytics) (11.2.1)\n",
            "Requirement already satisfied: pyyaml>=5.3.1 in /usr/local/lib/python3.11/dist-packages (from ultralytics) (6.0.2)\n",
            "Requirement already satisfied: requests>=2.23.0 in /usr/local/lib/python3.11/dist-packages (from ultralytics) (2.32.3)\n",
            "Requirement already satisfied: scipy>=1.4.1 in /usr/local/lib/python3.11/dist-packages (from ultralytics) (1.15.3)\n",
            "Requirement already satisfied: torch>=1.8.0 in /usr/local/lib/python3.11/dist-packages (from ultralytics) (2.6.0+cu124)\n",
            "Requirement already satisfied: torchvision>=0.9.0 in /usr/local/lib/python3.11/dist-packages (from ultralytics) (0.21.0+cu124)\n",
            "Requirement already satisfied: tqdm>=4.64.0 in /usr/local/lib/python3.11/dist-packages (from ultralytics) (4.67.1)\n",
            "Requirement already satisfied: psutil in /usr/local/lib/python3.11/dist-packages (from ultralytics) (5.9.5)\n",
            "Requirement already satisfied: py-cpuinfo in /usr/local/lib/python3.11/dist-packages (from ultralytics) (9.0.0)\n",
            "Requirement already satisfied: pandas>=1.1.4 in /usr/local/lib/python3.11/dist-packages (from ultralytics) (2.2.2)\n",
            "Collecting ultralytics-thop>=2.0.0 (from ultralytics)\n",
            "  Downloading ultralytics_thop-2.0.14-py3-none-any.whl.metadata (9.4 kB)\n",
            "Requirement already satisfied: contourpy>=1.0.1 in /usr/local/lib/python3.11/dist-packages (from matplotlib>=3.3.0->ultralytics) (1.3.2)\n",
            "Requirement already satisfied: cycler>=0.10 in /usr/local/lib/python3.11/dist-packages (from matplotlib>=3.3.0->ultralytics) (0.12.1)\n",
            "Requirement already satisfied: fonttools>=4.22.0 in /usr/local/lib/python3.11/dist-packages (from matplotlib>=3.3.0->ultralytics) (4.58.4)\n",
            "Requirement already satisfied: kiwisolver>=1.3.1 in /usr/local/lib/python3.11/dist-packages (from matplotlib>=3.3.0->ultralytics) (1.4.8)\n",
            "Requirement already satisfied: packaging>=20.0 in /usr/local/lib/python3.11/dist-packages (from matplotlib>=3.3.0->ultralytics) (24.2)\n",
            "Requirement already satisfied: pyparsing>=2.3.1 in /usr/local/lib/python3.11/dist-packages (from matplotlib>=3.3.0->ultralytics) (3.2.3)\n",
            "Requirement already satisfied: python-dateutil>=2.7 in /usr/local/lib/python3.11/dist-packages (from matplotlib>=3.3.0->ultralytics) (2.9.0.post0)\n",
            "Requirement already satisfied: pytz>=2020.1 in /usr/local/lib/python3.11/dist-packages (from pandas>=1.1.4->ultralytics) (2025.2)\n",
            "Requirement already satisfied: tzdata>=2022.7 in /usr/local/lib/python3.11/dist-packages (from pandas>=1.1.4->ultralytics) (2025.2)\n",
            "Requirement already satisfied: charset-normalizer<4,>=2 in /usr/local/lib/python3.11/dist-packages (from requests>=2.23.0->ultralytics) (3.4.2)\n",
            "Requirement already satisfied: idna<4,>=2.5 in /usr/local/lib/python3.11/dist-packages (from requests>=2.23.0->ultralytics) (3.10)\n",
            "Requirement already satisfied: urllib3<3,>=1.21.1 in /usr/local/lib/python3.11/dist-packages (from requests>=2.23.0->ultralytics) (2.4.0)\n",
            "Requirement already satisfied: certifi>=2017.4.17 in /usr/local/lib/python3.11/dist-packages (from requests>=2.23.0->ultralytics) (2025.6.15)\n",
            "Requirement already satisfied: filelock in /usr/local/lib/python3.11/dist-packages (from torch>=1.8.0->ultralytics) (3.18.0)\n",
            "Requirement already satisfied: typing-extensions>=4.10.0 in /usr/local/lib/python3.11/dist-packages (from torch>=1.8.0->ultralytics) (4.14.0)\n",
            "Requirement already satisfied: networkx in /usr/local/lib/python3.11/dist-packages (from torch>=1.8.0->ultralytics) (3.5)\n",
            "Requirement already satisfied: jinja2 in /usr/local/lib/python3.11/dist-packages (from torch>=1.8.0->ultralytics) (3.1.6)\n",
            "Requirement already satisfied: fsspec in /usr/local/lib/python3.11/dist-packages (from torch>=1.8.0->ultralytics) (2025.3.2)\n",
            "Collecting nvidia-cuda-nvrtc-cu12==12.4.127 (from torch>=1.8.0->ultralytics)\n",
            "  Downloading nvidia_cuda_nvrtc_cu12-12.4.127-py3-none-manylinux2014_x86_64.whl.metadata (1.5 kB)\n",
            "Collecting nvidia-cuda-runtime-cu12==12.4.127 (from torch>=1.8.0->ultralytics)\n",
            "  Downloading nvidia_cuda_runtime_cu12-12.4.127-py3-none-manylinux2014_x86_64.whl.metadata (1.5 kB)\n",
            "Collecting nvidia-cuda-cupti-cu12==12.4.127 (from torch>=1.8.0->ultralytics)\n",
            "  Downloading nvidia_cuda_cupti_cu12-12.4.127-py3-none-manylinux2014_x86_64.whl.metadata (1.6 kB)\n",
            "Collecting nvidia-cudnn-cu12==9.1.0.70 (from torch>=1.8.0->ultralytics)\n",
            "  Downloading nvidia_cudnn_cu12-9.1.0.70-py3-none-manylinux2014_x86_64.whl.metadata (1.6 kB)\n",
            "Collecting nvidia-cublas-cu12==12.4.5.8 (from torch>=1.8.0->ultralytics)\n",
            "  Downloading nvidia_cublas_cu12-12.4.5.8-py3-none-manylinux2014_x86_64.whl.metadata (1.5 kB)\n",
            "Collecting nvidia-cufft-cu12==11.2.1.3 (from torch>=1.8.0->ultralytics)\n",
            "  Downloading nvidia_cufft_cu12-11.2.1.3-py3-none-manylinux2014_x86_64.whl.metadata (1.5 kB)\n",
            "Collecting nvidia-curand-cu12==10.3.5.147 (from torch>=1.8.0->ultralytics)\n",
            "  Downloading nvidia_curand_cu12-10.3.5.147-py3-none-manylinux2014_x86_64.whl.metadata (1.5 kB)\n",
            "Collecting nvidia-cusolver-cu12==11.6.1.9 (from torch>=1.8.0->ultralytics)\n",
            "  Downloading nvidia_cusolver_cu12-11.6.1.9-py3-none-manylinux2014_x86_64.whl.metadata (1.6 kB)\n",
            "Collecting nvidia-cusparse-cu12==12.3.1.170 (from torch>=1.8.0->ultralytics)\n",
            "  Downloading nvidia_cusparse_cu12-12.3.1.170-py3-none-manylinux2014_x86_64.whl.metadata (1.6 kB)\n",
            "Requirement already satisfied: nvidia-cusparselt-cu12==0.6.2 in /usr/local/lib/python3.11/dist-packages (from torch>=1.8.0->ultralytics) (0.6.2)\n",
            "Requirement already satisfied: nvidia-nccl-cu12==2.21.5 in /usr/local/lib/python3.11/dist-packages (from torch>=1.8.0->ultralytics) (2.21.5)\n",
            "Requirement already satisfied: nvidia-nvtx-cu12==12.4.127 in /usr/local/lib/python3.11/dist-packages (from torch>=1.8.0->ultralytics) (12.4.127)\n",
            "Collecting nvidia-nvjitlink-cu12==12.4.127 (from torch>=1.8.0->ultralytics)\n",
            "  Downloading nvidia_nvjitlink_cu12-12.4.127-py3-none-manylinux2014_x86_64.whl.metadata (1.5 kB)\n",
            "Requirement already satisfied: triton==3.2.0 in /usr/local/lib/python3.11/dist-packages (from torch>=1.8.0->ultralytics) (3.2.0)\n",
            "Requirement already satisfied: sympy==1.13.1 in /usr/local/lib/python3.11/dist-packages (from torch>=1.8.0->ultralytics) (1.13.1)\n",
            "Requirement already satisfied: mpmath<1.4,>=1.1.0 in /usr/local/lib/python3.11/dist-packages (from sympy==1.13.1->torch>=1.8.0->ultralytics) (1.3.0)\n",
            "Requirement already satisfied: six>=1.5 in /usr/local/lib/python3.11/dist-packages (from python-dateutil>=2.7->matplotlib>=3.3.0->ultralytics) (1.17.0)\n",
            "Requirement already satisfied: MarkupSafe>=2.0 in /usr/local/lib/python3.11/dist-packages (from jinja2->torch>=1.8.0->ultralytics) (3.0.2)\n",
            "Downloading ultralytics-8.3.162-py3-none-any.whl (1.0 MB)\n",
            "\u001b[2K   \u001b[90m━━━━━━━━━━━━━━━━━━━━━━━━━━━━━━━━━━━━━━━━\u001b[0m \u001b[32m1.0/1.0 MB\u001b[0m \u001b[31m46.1 MB/s\u001b[0m eta \u001b[36m0:00:00\u001b[0m\n",
            "\u001b[?25hDownloading nvidia_cublas_cu12-12.4.5.8-py3-none-manylinux2014_x86_64.whl (363.4 MB)\n",
            "\u001b[2K   \u001b[90m━━━━━━━━━━━━━━━━━━━━━━━━━━━━━━━━━━━━━━━━\u001b[0m \u001b[32m363.4/363.4 MB\u001b[0m \u001b[31m4.0 MB/s\u001b[0m eta \u001b[36m0:00:00\u001b[0m\n",
            "\u001b[?25hDownloading nvidia_cuda_cupti_cu12-12.4.127-py3-none-manylinux2014_x86_64.whl (13.8 MB)\n",
            "\u001b[2K   \u001b[90m━━━━━━━━━━━━━━━━━━━━━━━━━━━━━━━━━━━━━━━━\u001b[0m \u001b[32m13.8/13.8 MB\u001b[0m \u001b[31m69.7 MB/s\u001b[0m eta \u001b[36m0:00:00\u001b[0m\n",
            "\u001b[?25hDownloading nvidia_cuda_nvrtc_cu12-12.4.127-py3-none-manylinux2014_x86_64.whl (24.6 MB)\n",
            "\u001b[2K   \u001b[90m━━━━━━━━━━━━━━━━━━━━━━━━━━━━━━━━━━━━━━━━\u001b[0m \u001b[32m24.6/24.6 MB\u001b[0m \u001b[31m37.2 MB/s\u001b[0m eta \u001b[36m0:00:00\u001b[0m\n",
            "\u001b[?25hDownloading nvidia_cuda_runtime_cu12-12.4.127-py3-none-manylinux2014_x86_64.whl (883 kB)\n",
            "\u001b[2K   \u001b[90m━━━━━━━━━━━━━━━━━━━━━━━━━━━━━━━━━━━━━━━━\u001b[0m \u001b[32m883.7/883.7 kB\u001b[0m \u001b[31m51.6 MB/s\u001b[0m eta \u001b[36m0:00:00\u001b[0m\n",
            "\u001b[?25hDownloading nvidia_cudnn_cu12-9.1.0.70-py3-none-manylinux2014_x86_64.whl (664.8 MB)\n",
            "\u001b[2K   \u001b[90m━━━━━━━━━━━━━━━━━━━━━━━━━━━━━━━━━━━━━━━━\u001b[0m \u001b[32m664.8/664.8 MB\u001b[0m \u001b[31m2.8 MB/s\u001b[0m eta \u001b[36m0:00:00\u001b[0m\n",
            "\u001b[?25hDownloading nvidia_cufft_cu12-11.2.1.3-py3-none-manylinux2014_x86_64.whl (211.5 MB)\n",
            "\u001b[2K   \u001b[90m━━━━━━━━━━━━━━━━━━━━━━━━━━━━━━━━━━━━━━━━\u001b[0m \u001b[32m211.5/211.5 MB\u001b[0m \u001b[31m5.3 MB/s\u001b[0m eta \u001b[36m0:00:00\u001b[0m\n",
            "\u001b[?25hDownloading nvidia_curand_cu12-10.3.5.147-py3-none-manylinux2014_x86_64.whl (56.3 MB)\n",
            "\u001b[2K   \u001b[90m━━━━━━━━━━━━━━━━━━━━━━━━━━━━━━━━━━━━━━━━\u001b[0m \u001b[32m56.3/56.3 MB\u001b[0m \u001b[31m13.7 MB/s\u001b[0m eta \u001b[36m0:00:00\u001b[0m\n",
            "\u001b[?25hDownloading nvidia_cusolver_cu12-11.6.1.9-py3-none-manylinux2014_x86_64.whl (127.9 MB)\n",
            "\u001b[2K   \u001b[90m━━━━━━━━━━━━━━━━━━━━━━━━━━━━━━━━━━━━━━━━\u001b[0m \u001b[32m127.9/127.9 MB\u001b[0m \u001b[31m7.0 MB/s\u001b[0m eta \u001b[36m0:00:00\u001b[0m\n",
            "\u001b[?25hDownloading nvidia_cusparse_cu12-12.3.1.170-py3-none-manylinux2014_x86_64.whl (207.5 MB)\n",
            "\u001b[2K   \u001b[90m━━━━━━━━━━━━━━━━━━━━━━━━━━━━━━━━━━━━━━━━\u001b[0m \u001b[32m207.5/207.5 MB\u001b[0m \u001b[31m5.6 MB/s\u001b[0m eta \u001b[36m0:00:00\u001b[0m\n",
            "\u001b[?25hDownloading nvidia_nvjitlink_cu12-12.4.127-py3-none-manylinux2014_x86_64.whl (21.1 MB)\n",
            "\u001b[2K   \u001b[90m━━━━━━━━━━━━━━━━━━━━━━━━━━━━━━━━━━━━━━━━\u001b[0m \u001b[32m21.1/21.1 MB\u001b[0m \u001b[31m107.4 MB/s\u001b[0m eta \u001b[36m0:00:00\u001b[0m\n",
            "\u001b[?25hDownloading ultralytics_thop-2.0.14-py3-none-any.whl (26 kB)\n",
            "Installing collected packages: nvidia-nvjitlink-cu12, nvidia-curand-cu12, nvidia-cufft-cu12, nvidia-cuda-runtime-cu12, nvidia-cuda-nvrtc-cu12, nvidia-cuda-cupti-cu12, nvidia-cublas-cu12, nvidia-cusparse-cu12, nvidia-cudnn-cu12, nvidia-cusolver-cu12, ultralytics-thop, ultralytics\n",
            "  Attempting uninstall: nvidia-nvjitlink-cu12\n",
            "    Found existing installation: nvidia-nvjitlink-cu12 12.5.82\n",
            "    Uninstalling nvidia-nvjitlink-cu12-12.5.82:\n",
            "      Successfully uninstalled nvidia-nvjitlink-cu12-12.5.82\n",
            "  Attempting uninstall: nvidia-curand-cu12\n",
            "    Found existing installation: nvidia-curand-cu12 10.3.6.82\n",
            "    Uninstalling nvidia-curand-cu12-10.3.6.82:\n",
            "      Successfully uninstalled nvidia-curand-cu12-10.3.6.82\n",
            "  Attempting uninstall: nvidia-cufft-cu12\n",
            "    Found existing installation: nvidia-cufft-cu12 11.2.3.61\n",
            "    Uninstalling nvidia-cufft-cu12-11.2.3.61:\n",
            "      Successfully uninstalled nvidia-cufft-cu12-11.2.3.61\n",
            "  Attempting uninstall: nvidia-cuda-runtime-cu12\n",
            "    Found existing installation: nvidia-cuda-runtime-cu12 12.5.82\n",
            "    Uninstalling nvidia-cuda-runtime-cu12-12.5.82:\n",
            "      Successfully uninstalled nvidia-cuda-runtime-cu12-12.5.82\n",
            "  Attempting uninstall: nvidia-cuda-nvrtc-cu12\n",
            "    Found existing installation: nvidia-cuda-nvrtc-cu12 12.5.82\n",
            "    Uninstalling nvidia-cuda-nvrtc-cu12-12.5.82:\n",
            "      Successfully uninstalled nvidia-cuda-nvrtc-cu12-12.5.82\n",
            "  Attempting uninstall: nvidia-cuda-cupti-cu12\n",
            "    Found existing installation: nvidia-cuda-cupti-cu12 12.5.82\n",
            "    Uninstalling nvidia-cuda-cupti-cu12-12.5.82:\n",
            "      Successfully uninstalled nvidia-cuda-cupti-cu12-12.5.82\n",
            "  Attempting uninstall: nvidia-cublas-cu12\n",
            "    Found existing installation: nvidia-cublas-cu12 12.5.3.2\n",
            "    Uninstalling nvidia-cublas-cu12-12.5.3.2:\n",
            "      Successfully uninstalled nvidia-cublas-cu12-12.5.3.2\n",
            "  Attempting uninstall: nvidia-cusparse-cu12\n",
            "    Found existing installation: nvidia-cusparse-cu12 12.5.1.3\n",
            "    Uninstalling nvidia-cusparse-cu12-12.5.1.3:\n",
            "      Successfully uninstalled nvidia-cusparse-cu12-12.5.1.3\n",
            "  Attempting uninstall: nvidia-cudnn-cu12\n",
            "    Found existing installation: nvidia-cudnn-cu12 9.3.0.75\n",
            "    Uninstalling nvidia-cudnn-cu12-9.3.0.75:\n",
            "      Successfully uninstalled nvidia-cudnn-cu12-9.3.0.75\n",
            "  Attempting uninstall: nvidia-cusolver-cu12\n",
            "    Found existing installation: nvidia-cusolver-cu12 11.6.3.83\n",
            "    Uninstalling nvidia-cusolver-cu12-11.6.3.83:\n",
            "      Successfully uninstalled nvidia-cusolver-cu12-11.6.3.83\n",
            "Successfully installed nvidia-cublas-cu12-12.4.5.8 nvidia-cuda-cupti-cu12-12.4.127 nvidia-cuda-nvrtc-cu12-12.4.127 nvidia-cuda-runtime-cu12-12.4.127 nvidia-cudnn-cu12-9.1.0.70 nvidia-cufft-cu12-11.2.1.3 nvidia-curand-cu12-10.3.5.147 nvidia-cusolver-cu12-11.6.1.9 nvidia-cusparse-cu12-12.3.1.170 nvidia-nvjitlink-cu12-12.4.127 ultralytics-8.3.162 ultralytics-thop-2.0.14\n"
          ]
        }
      ]
    },
    {
      "cell_type": "markdown",
      "source": [
        "# Before"
      ],
      "metadata": {
        "id": "HznSkBMUpmCA"
      }
    },
    {
      "cell_type": "code",
      "execution_count": null,
      "metadata": {
        "id": "YIIU6INs-G7a"
      },
      "outputs": [],
      "source": [
        "from copy import copy\n",
        "from pathlib import Path\n",
        "from typing import Any, Dict, Optional, Union\n",
        "\n",
        "from ultralytics.models import yolo\n",
        "from ultralytics.nn.tasks import PoseModel\n",
        "import ultralytics\n",
        "from ultralytics.utils import DEFAULT_CFG, LOGGER\n",
        "from ultralytics.utils.plotting import plot_results\n",
        "\n",
        "# yolo = ultralytics.models.yolo\n",
        "# PoseModel = ultralytics.nn.task.PoseModel"
      ]
    },
    {
      "cell_type": "code",
      "source": [
        "class PoseTrainer(yolo.detect.DetectionTrainer):\n",
        "  def __init__(self, cfg=DEFAULT_CFG, overrides : Optional[Dict[str,Any]] = None, _callbakcs=None):\n",
        "    if overrides is None:\n",
        "      overrides = {}\n",
        "      overrides[\"task\"] = 'pose'\n",
        "      super().__init__(cfg, overrides, _callbacks)\n",
        "\n",
        "    if isinstance(self.args.device, str) and self.args.device.lower() =='mps':\n",
        "      LOGGER.warning(\n",
        "          \"Apple MPS Known Pose bug. Recommend 'device=cpu', for Pose models.\"\n",
        "          \"See YOLO Issue-4031\"\n",
        "      )\n",
        "  def get_model(\n",
        "      self,\n",
        "      cfg : Optional[Union[str,Path, Dict[str, Any]]] = None,\n",
        "      weights : Optional[Union[str, Path]] = None,\n",
        "      verbose : bool = True,\n",
        "\n",
        "  ) -> PoseModel:\n",
        "    model = PoseModel(\n",
        "        cfg, nc=self.data['nc'], ch = self.data['channels'], data_kpt_shape=self.data['kpt_shape'], verbose = verbose\n",
        "    )\n",
        "    if weights:\n",
        "      model.load(weights)\n",
        "\n",
        "      return model"
      ],
      "metadata": {
        "id": "NiQ2tjXB-rGw"
      },
      "execution_count": null,
      "outputs": []
    },
    {
      "cell_type": "code",
      "source": [],
      "metadata": {
        "id": "LwGOV-IkBezH"
      },
      "execution_count": null,
      "outputs": []
    },
    {
      "cell_type": "markdown",
      "source": [
        "BaseTrainer !"
      ],
      "metadata": {
        "id": "X3Gp7CANjpR-"
      }
    },
    {
      "cell_type": "code",
      "source": [
        "\"\"\"\n",
        "Train a model on a dataset.\n",
        "\n",
        "Usage:\n",
        "    $ yolo mode=train model=yolo11n.pt data=coco8.yaml imgsz=640 epochs=100 batch=16\n",
        "\"\"\"\n",
        "\n",
        "import gc\n",
        "import math\n",
        "import os\n",
        "import subprocess\n",
        "import time\n",
        "import warnings\n",
        "from copy import copy, deepcopy\n",
        "from datetime import datetime, timedelta\n",
        "from pathlib import Path\n",
        "\n",
        "import numpy as np\n",
        "import torch\n",
        "from torch import distributed as dist\n",
        "from torch import nn, optim\n",
        "\n",
        "from ultralytics import __version__\n",
        "from ultralytics.cfg import get_cfg, get_save_dir\n",
        "from ultralytics.data.utils import check_cls_dataset, check_det_dataset\n",
        "from ultralytics.nn.tasks import attempt_load_one_weight, attempt_load_weights\n",
        "from ultralytics.utils import (\n",
        "    DEFAULT_CFG,\n",
        "    LOCAL_RANK,\n",
        "    LOGGER,\n",
        "    RANK,\n",
        "    TQDM,\n",
        "    YAML,\n",
        "    callbacks,\n",
        "    clean_url,\n",
        "    colorstr,\n",
        "    emojis,\n",
        ")\n",
        "from ultralytics.utils.autobatch import check_train_batch_size\n",
        "from ultralytics.utils.checks import check_amp, check_file, check_imgsz, check_model_file_from_stem, print_args\n",
        "from ultralytics.utils.dist import ddp_cleanup, generate_ddp_command\n",
        "from ultralytics.utils.files import get_latest_run\n",
        "from ultralytics.utils.torch_utils import (\n",
        "    TORCH_2_4,\n",
        "    EarlyStopping,\n",
        "    ModelEMA,\n",
        "    autocast,\n",
        "    convert_optimizer_state_dict_to_fp16,\n",
        "    init_seeds,\n",
        "    one_cycle,\n",
        "    select_device,\n",
        "    strip_optimizer,\n",
        "    torch_distributed_zero_first,\n",
        "    unset_deterministic,\n",
        ")"
      ],
      "metadata": {
        "id": "X3YBTWjojrQ1"
      },
      "execution_count": null,
      "outputs": []
    },
    {
      "cell_type": "code",
      "source": [
        "class BaseTrainer:\n",
        "  def __init__(self, cfg = DEFAULT_CFG, overrides=None, _callbacks=None ):\n",
        "    self.args = get_cfg()"
      ],
      "metadata": {
        "id": "023Jk7Xakozt"
      },
      "execution_count": null,
      "outputs": []
    },
    {
      "cell_type": "markdown",
      "source": [
        "# BasePredictor\n"
      ],
      "metadata": {
        "id": "Sr36m-S-pr1H"
      }
    },
    {
      "cell_type": "code",
      "source": [
        "import platform\n",
        "import re, threading\n",
        "from pathlib import Path\n",
        "from typing import Any, Dict, List, Optional\n",
        "\n",
        "import cv2\n",
        "import numpy as np\n",
        "import torch\n",
        "\n",
        "from ultralytics.cfg import get_cfg, get_save_dir\n",
        "from ultralytics.data import load_inference_source\n",
        "from ultralytics.data.augment import LetterBox\n",
        "from ultralytics.nn.autobackend import AutoBackend\n",
        "from ultralytics.utils import DEFAULT_CFG, LOGGER, MACOS, WINDOWS, callbacks, colorstr, ops\n",
        "from ultralytics.utils.checks import check_imgsz, check_imshow\n",
        "from ultralytics.utils.files import increment_path\n",
        "from ultralytics.utils.torch_utils import select_device, smart_inference_mode"
      ],
      "metadata": {
        "id": "AYMlUz_rpyf3"
      },
      "execution_count": 3,
      "outputs": []
    },
    {
      "cell_type": "code",
      "source": [
        "class BasePredictor_Stud:\n",
        "  def __init__(\n",
        "      self,\n",
        "      cfg = DEFAULT_CFG,\n",
        "      overrides : Optional[Dict[str, Any]] = None, #override\n",
        "      # Ex : {'conf' : 0, 'iou' : 0.6, 'cee':0.2} || None\n",
        "      _callbacks : Optional[Dict[str, List[callable]]]= None,\n",
        "  ) :\n"
      ],
      "metadata": {
        "id": "v7V3rytiqZ08"
      },
      "execution_count": null,
      "outputs": []
    },
    {
      "cell_type": "markdown",
      "source": [
        "## Callback?"
      ],
      "metadata": {
        "id": "Ze7e_1EEtykc"
      }
    },
    {
      "cell_type": "code",
      "source": [
        "!pip install typing"
      ],
      "metadata": {
        "id": "NpYzcrEwuHkj",
        "outputId": "5a6579e5-d7b6-4672-f9e6-19ff40164e84",
        "colab": {
          "base_uri": "https://localhost:8080/"
        }
      },
      "execution_count": 3,
      "outputs": [
        {
          "output_type": "stream",
          "name": "stdout",
          "text": [
            "Requirement already satisfied: typing in /usr/local/lib/python3.11/dist-packages (3.7.4.3)\n"
          ]
        }
      ]
    },
    {
      "cell_type": "code",
      "source": [
        "from typing import Optional, Dict, List, Any, Callable\n",
        "\n",
        "\n",
        "# Declare Callback function\n",
        "# predictor instance 매개변수 받겠다 선언 - Callback은 서로를 REF\n",
        "def my_on_predict_start(Predictor_instance):\n",
        "  print(\"-- CUSTOM CALL BACK : Predicting Started! ---\")\n",
        "  # Predictor_instance.args.verbose =True =>필요시 predictor의 속성 변경 가능\n",
        "\n",
        "def my_on_predict_batch_end(Predictor_instance):\n",
        "  if hasattr(Predictor_instance, 'results') and Predictor_instance.results:\n",
        "    speed_info = Predictor_instance.results[0]['speed'] if Predictor_instance.results else{}\n",
        "    print(f'-- CUSTOM CALL BACK : Batch processed. Speed: {speed_info} --')\n",
        "\n",
        "def my_on_predict_end(Predictor_instance):\n",
        "  print('\\n--- CUSTOM CALL BACK : Predicting finished! ---')\n",
        "\n",
        "\n",
        "''' --------------------------------------------- '''\n",
        "\n",
        "# _callbacks dictionary\n",
        "custom_callbacks_dict : Dict[str, List[Callable[[Any],None]]] = {\n",
        "    \"on_predict_start\": [my_on_predict_start],\n",
        "    \"on_predict_batch_end\" : [my_on_predict_batch_end],\n",
        "    \"on_predict_end\" : [my_on_predict_end],\n",
        "}\n",
        "\n",
        "#Base_studd사용, 초기화\n",
        "class BasePredictor_Studd:\n",
        "  def __init__(\n",
        "      self,\n",
        "      cfg = \"DEFAULT_CFG_VALUE\",\n",
        "      overrides : Optional[Dict[str, Any]] = None,\n",
        "      _callbacks : Optional[Dict[str, List[Callable]]] = None,\n",
        "  ):\n",
        "      self.cfg = cfg\n",
        "      self.overrides = overrides\n",
        "      self.callbacks = _callbacks if _callbacks is not None else{} #None일때, 빈 딕셔너리\n",
        "      ## 실제 YOLO는 Default_Callback을 불러옴\n",
        "\n",
        "  def run_callbacks(self, event : str):\n",
        "    '''\n",
        "    특정 event에 등록된 callback 실행!\n",
        "    따로 지정해놓은 Callback dictionary를 가져옴\n",
        "    '''\n",
        "    if event in self.callbacks:\n",
        "      for callback_func in self.callbacks[event]:\n",
        "        callback_func(self) #predictor instance 자신을 callback으로 다시 받음\n",
        "\n",
        "  def simulate_predict(self):\n",
        "    self.run_callbacks('on_predict_start')\n",
        "    print('\\n(Simulating batch 1 processing..)')\n",
        "    # 실제는 results[0], speed가속성이 update 될것임.\n",
        "    self.results = [{'speed' : {'preprocess' : 10, 'inference' : 50, 'postprocess': 5}}]\n",
        "\n",
        "    self.run_callbacks('on_predict_batch_end')\n",
        "\n",
        "    print('\\n(Simulating batch 2 processing...)')\n",
        "    self.results = [{'speed' : {'preprocess' : 12, 'inference' : 55, 'postprocess': 6}}]\n",
        "    self.run_callbacks('on_predict_batch_end')\n",
        "\n",
        "    self.run_callbacks('on_predict_end')\n",
        "\n",
        "\n",
        "my_predictor = BasePredictor_Studd(_callbacks=custom_callbacks_dict)\n",
        "#Base Predictor_stud instance생성이후, custom callback dic전달.\n",
        "\n",
        "my_predictor.simulate_predict()\n",
        "#가상 loop 실행"
      ],
      "metadata": {
        "id": "GVkTdHeMt2hJ",
        "outputId": "345db58c-4c9f-476d-bb6c-dee8ede890ac",
        "colab": {
          "base_uri": "https://localhost:8080/"
        }
      },
      "execution_count": 14,
      "outputs": [
        {
          "output_type": "stream",
          "name": "stdout",
          "text": [
            "-- CUSTOM CALL BACK : Predicting Started! ---\n",
            "\n",
            "(Simulating batch 1 processing..)\n",
            "-- CUSTOM CALL BACK : Batch processed. Speed: {'preprocess': 10, 'inference': 50, 'postprocess': 5} --\n",
            "\n",
            "(Simulating batch 2 processing...)\n",
            "-- CUSTOM CALL BACK : Batch processed. Speed: {'preprocess': 12, 'inference': 55, 'postprocess': 6} --\n",
            "\n",
            "--- CUSTOM CALL BACK : Predicting finished! ---\n"
          ]
        }
      ]
    },
    {
      "cell_type": "code",
      "source": [],
      "metadata": {
        "id": "C2shhrtjwoDB"
      },
      "execution_count": null,
      "outputs": []
    }
  ]
}